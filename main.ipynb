{
 "cells": [
  {
   "cell_type": "code",
   "execution_count": 1,
   "id": "f92390b6",
   "metadata": {},
   "outputs": [
    {
     "name": "stdout",
     "output_type": "stream",
     "text": [
      "How long would you like to record (secs.)?: 10\n"
     ]
    }
   ],
   "source": [
    "#note - https://python-sounddevice.readthedocs.io/en/0.4.4/\n",
    "import sounddevice\n",
    "#note - https://pypi.org/project/wavio/\n",
    "#---import wavio\n",
    "#note - https://docs.python.org/3/library/tkinter.html\n",
    "import soundfile\n",
    "from tkinter import *\n",
    "\n",
    "#constants\n",
    "#---freq = 44100\n",
    "#time\n",
    "#---duration = 10\n",
    "\n",
    "#note - constants always go on the top   \n",
    "FONT = ('Courier', 15, 'normal')\n",
    "YELLOW = '#f7f5dd'\n",
    "\n",
    "def voice_recorder():\n",
    "    fs = 44100\n",
    "    #duration = 10\n",
    "    duration = int(input('How long would you like to record (secs.)?: '))\n",
    "    #note - https://python-sounddevice.readthedocs.io/en/0.3.7/\n",
    "    #note - error documentation - https://python-sounddevice.readthedocs.io/en/0.4.4/_modules/sounddevice.html\n",
    "    sound_recording = sounddevice.rec(int(duration * fs), samplerate = fs, channels = 1)\n",
    "    sounddevice.wait()\n",
    "    return soundfile.write('Voice_Recording.flac', sound_recording, fs)\n",
    "   \n",
    "#tk() - allows you to register and unregister a callback function which will be called from the Tk mainloop\n",
    "window = Tk()\n",
    "window.title('Voice Recorder')\n",
    "window.geometry('200x55')\n",
    "#padx & pady - a distance - designating external padding on each side of the slave widget\n",
    "#fg - foreground color & bg - background color\n",
    "window.config(padx = 10, pady = 10, bg = YELLOW)\n",
    "\n",
    "#command calls the play_song function\n",
    "voice_recording_button = Button(text = 'Record', highlightthickness = 0, command = voice_recorder)\n",
    "voice_recording_button.config(font = FONT, padx = 5, pady = 5)\n",
    "voice_recording_button.grid(column = 1 , row = 1)\n",
    "\n",
    "window.mainloop()   "
   ]
  },
  {
   "cell_type": "code",
   "execution_count": null,
   "id": "895cb223",
   "metadata": {},
   "outputs": [],
   "source": []
  }
 ],
 "metadata": {
  "kernelspec": {
   "display_name": "Python 3",
   "language": "python",
   "name": "python3"
  },
  "language_info": {
   "codemirror_mode": {
    "name": "ipython",
    "version": 3
   },
   "file_extension": ".py",
   "mimetype": "text/x-python",
   "name": "python",
   "nbconvert_exporter": "python",
   "pygments_lexer": "ipython3",
   "version": "3.8.8"
  }
 },
 "nbformat": 4,
 "nbformat_minor": 5
}
